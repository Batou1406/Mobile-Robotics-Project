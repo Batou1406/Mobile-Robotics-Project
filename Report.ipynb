{
 "cells": [
  {
   "cell_type": "markdown",
   "metadata": {},
   "source": [
    "## Basics of Mobile Robotics"
   ]
  },
  {
   "cell_type": "markdown",
   "metadata": {},
   "source": [
    "## Table of Contents\n",
    "\n",
    "* [Introduction](#chapter1)\n",
    "    * [Framework](#section_1_1)\n",
    "    * [Modules](#section_1_2)\n",
    "    * [Environment](#section_1_3)\n",
    "* [Computer Vision](#chapter2)\n",
    "    * [Vision initialization and calibration](#section_2_1)\n",
    "    * [Prepocessing](#section_2_1)\n",
    "    * [Map initialization](Section_2_2)\n",
    "        * [Obstacles Detection](#section_2_2_1)\n",
    "        * [Goal Detection](#section_2_2_2)\n",
    "        * [Thymio Detection](#section_2_2_3)\n",
    "    * [Resize](Section_2_3)\n",
    "* [Global Navigation](#chapter3)\n",
    "    * [Occupancy Grid](#section_3_1)\n",
    "    * [A* Algorithm](#section_3_2)\n",
    "    \n",
    "* [Kalman Filter](#chapter4)\n",
    "    * [Prediction](#section_4_1)\n",
    "    * [Update](#section_4_2)\n",
    "   \n",
    "* [Local Navigation](#chapter5)\n",
    "    * [Local Avoidance](#section_5_1)\n",
    "    * [Kidnapping](#section_5_2)\n",
    "    \n",
    "* [Overall Project](#chapter6)\n",
    "    * [Overview](#section_6_1)\n",
    "    \n",
    "* [Conclusion](#chapter7)\n",
    "* [Sources](#chapter8)"
   ]
  },
  {
   "cell_type": "markdown",
   "metadata": {},
   "source": [
    "### Introduction <a class=\"anchor\" id=\"chapter1\"></a>\n",
    "\n",
    "\n",
    "\n",
    "#### Framework  <a class=\"anchor\" id=\"section_1_1\"></a>\n",
    "\n",
    "![frame](framework.jpeg)\n",
    "\n",
    "\n",
    "\n",
    "\n",
    "\n",
    "\n",
    "\n",
    "#### Modules <a class=\"anchor\" id=\"section_1_2\"></a>\n",
    "\n",
    "describe modules \n",
    "\n",
    "#### Environment <a class=\"anchor\" id=\"section_1_3\"></a>\n",
    "\n",
    "![frame](Final_map.jpg)"
   ]
  },
  {
   "cell_type": "markdown",
   "metadata": {},
   "source": [
    "### Computer Vision <a class=\"anchor\" id=\"chapter2\"></a>\n",
    "\n",
    "#### Vision initialization and calibration <a class=\"anchor\" id=\"section_2_1\"></a>\n",
    "\n",
    "#### Prepocessing <a class=\"anchor\" id=\"section_2_2\"></a>\n",
    "\n",
    "#### Map initialization <a class=\"anchor\" id=\"section_2_3\"></a>\n",
    "\n",
    "##### Obstacles Detection <a class=\"anchor\" id=\"section_2_3_1\"></a>\n",
    "\n",
    "##### Goal Detection <a class=\"anchor\" id=\"section_2_3_2\"></a>\n",
    "\n",
    "##### Thymio Detection <a class=\"anchor\" id=\"section_2_3_3\"></a>\n",
    "\n",
    "\n"
   ]
  },
  {
   "cell_type": "markdown",
   "metadata": {},
   "source": [
    "### Global Navigation <a class=\"anchor\" id=\"chapter3\"></a>\n",
    "\n",
    "#### Occupancy Grid<a class=\"anchor\" id=\"section_3_1\"></a>\n",
    "\n",
    "#### A* Algorithm <a class=\"anchor\" id=\"section_3_2\"></a>\n"
   ]
  },
  {
   "cell_type": "markdown",
   "metadata": {},
   "source": [
    "### Kalman Filter <a class=\"anchor\" id=\"chapter4\"></a>\n",
    "\n",
    "#### Prediction<a class=\"anchor\" id=\"section_4_1\"></a>\n",
    "\n",
    "#### Update <a class=\"anchor\" id=\"section_4_2\"></a>\n",
    "\n"
   ]
  },
  {
   "cell_type": "markdown",
   "metadata": {},
   "source": [
    "### Local Navigation <a class=\"anchor\" id=\"chapter5\"></a>\n",
    "\n",
    "#### Local Avoidance <a class=\"anchor\" id=\"section_5_1\"></a>\n",
    "\n",
    "#### Kidnapping <a class=\"anchor\" id=\"section_5_2\"></a>\n",
    "\n",
    "\n",
    "\n",
    " "
   ]
  },
  {
   "cell_type": "markdown",
   "metadata": {},
   "source": [
    "### Overall Project <a class=\"anchor\" id=\"chapter6\"></a>\n",
    "\n",
    "#### Overview <a class=\"anchor\" id=\"section_6_1\"></a>\n",
    "#### Main Function <a class=\"anchor\" id=\"section_6_2\"></a>"
   ]
  },
  {
   "cell_type": "markdown",
   "metadata": {},
   "source": [
    "### Conclusion<a class=\"anchor\" id=\"chapter7\"></a>\n",
    "\n",
    "    \n",
    "\n",
    "\n"
   ]
  },
  {
   "cell_type": "markdown",
   "metadata": {},
   "source": [
    "### Sources <a class=\"anchor\" id=\"chapter8\"></a>\n",
    "\n",
    "All sources used for the project from internet\n",
    "Maybe we shouuld also talk about the session that we use from the course \n",
    "\n",
    "\n",
    "#### source 1 <a class=\"anchor\" id=\"section_8_1\"></a>\n",
    "\n",
    "#### source 2 <a class=\"anchor\" id=\"section_8_2\"></a>"
   ]
  },
  {
   "cell_type": "code",
   "execution_count": null,
   "metadata": {},
   "outputs": [],
   "source": []
  }
 ],
 "metadata": {
  "kernelspec": {
   "display_name": "Python 3",
   "language": "python",
   "name": "python3"
  },
  "language_info": {
   "codemirror_mode": {
    "name": "ipython",
    "version": 3
   },
   "file_extension": ".py",
   "mimetype": "text/x-python",
   "name": "python",
   "nbconvert_exporter": "python",
   "pygments_lexer": "ipython3",
   "version": "3.8.5"
  }
 },
 "nbformat": 4,
 "nbformat_minor": 4
}
