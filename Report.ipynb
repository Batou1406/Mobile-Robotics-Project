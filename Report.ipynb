{
 "cells": [
  {
   "cell_type": "markdown",
   "source": [
    "## Basics of Mobile Robotics"
   ],
   "metadata": {}
  },
  {
   "cell_type": "markdown",
   "source": [
    "## Table of Contents\n",
    "\n",
    "* [Introduction](#chapter1)\n",
    "    * [Framework](#section_1_1)\n",
    "    * [Modules](#section_1_2)\n",
    "    * [Environment](#section_1_3)\n",
    "* [Computer Vision](#chapter2)\n",
    "    * [Vision initialization and calibration](#section_2_1)\n",
    "    * [Prepocessing](#section_2_1)\n",
    "    * [Map initialization](Section_2_2)\n",
    "        * [Obstacles Detection](#section_2_2_1)\n",
    "        * [Goal Detection](#section_2_2_2)\n",
    "        * [Thymio Detection](#section_2_2_3)\n",
    "    * [Resize](Section_2_3)\n",
    "* [Global Navigation](#chapter3)\n",
    "    * [Occupancy Grid](#section_3_1)\n",
    "    * [A* Algorithm](#section_3_2)\n",
    "    \n",
    "* [Kalman Filter](#chapter4)\n",
    "    * [Prediction](#section_4_1)\n",
    "    * [Update](#section_4_2)\n",
    "   \n",
    "* [Local Navigation](#chapter5)\n",
    "    * [Local Avoidance](#section_5_1)\n",
    "    * [Kidnapping](#section_5_2)\n",
    "    \n",
    "* [Overall Project](#chapter6)\n",
    "    * [Overview](#section_6_1)\n",
    "    \n",
    "* [Conclusion](#chapter7)\n",
    "* [Sources](#chapter8)"
   ],
   "metadata": {}
  },
  {
   "cell_type": "markdown",
   "source": [
    "### Introduction <a class=\"anchor\" id=\"chapter1\"></a>\n",
    "\n",
    "\n",
    "\n",
    "#### Framework  <a class=\"anchor\" id=\"section_1_1\"></a>\n",
    "\n",
    "![frame](framework.jpeg)\n",
    "\n",
    "\n",
    "\n",
    "\n",
    "\n",
    "\n",
    "\n",
    "#### Modules <a class=\"anchor\" id=\"section_1_2\"></a>\n",
    "\n",
    "describe modules \n",
    "\n",
    "#### Environment <a class=\"anchor\" id=\"section_1_3\"></a>\n",
    "\n",
    "![frame](Final_map.jpg)"
   ],
   "metadata": {}
  },
  {
   "cell_type": "markdown",
   "source": [
    "### Computer Vision <a class=\"anchor\" id=\"chapter2\"></a>\n",
    "\n",
    "#### Vision initialization and calibration <a class=\"anchor\" id=\"section_2_1\"></a>\n",
    "\n",
    "#### Prepocessing <a class=\"anchor\" id=\"section_2_2\"></a>\n",
    "\n",
    "#### Map initialization <a class=\"anchor\" id=\"section_2_3\"></a>\n",
    "\n",
    "##### Obstacles Detection <a class=\"anchor\" id=\"section_2_3_1\"></a>\n",
    "\n",
    "##### Goal Detection <a class=\"anchor\" id=\"section_2_3_2\"></a>\n",
    "\n",
    "##### Thymio Detection <a class=\"anchor\" id=\"section_2_3_3\"></a>\n",
    "\n",
    "\n"
   ],
   "metadata": {}
  },
  {
   "cell_type": "markdown",
   "source": [
    "### Global Navigation <a class=\"anchor\" id=\"chapter3\"></a>\n",
    "\n",
    "#### Occupancy Grid<a class=\"anchor\" id=\"section_3_1\"></a>\n",
    "\n",
    "#### A* Algorithm <a class=\"anchor\" id=\"section_3_2\"></a>\n"
   ],
   "metadata": {}
  },
  {
   "cell_type": "markdown",
   "source": [
    "### Kalman Filter <a class=\"anchor\" id=\"chapter4\"></a>\n",
    "\n",
    "#### Prediction<a class=\"anchor\" id=\"section_4_1\"></a>\n",
    "\n",
    "#### Update <a class=\"anchor\" id=\"section_4_2\"></a>\n",
    "\n"
   ],
   "metadata": {}
  },
  {
   "cell_type": "markdown",
   "source": [
    "### Local Navigation <a class=\"anchor\" id=\"chapter5\"></a>\n",
    "In the local navigation part, the `LocalNavigator.py` roles to control and run Thymio with given angle to follow the global path, avoid obstacles, and recognize a kidnapping situation.  \n",
    "\n",
    "#### Local Avoidance <a class=\"anchor\" id=\"section_5_1\"></a>\n",
    "Thymio has several useful sensors to detect obstacles such as proxy sensors. The idea of the local avoidance is to consider possible cases that Thymio meets.\n",
    "\n",
    "\n",
    "\n",
    "**1. No obstacle**\n",
    "```\n",
    "if any obstacles are not detected within the threshold\n",
    "    FOLLOW_GLOBAL_PATH with the given angle\n",
    "end\n",
    "\n",
    "function FOLLOW_GLOBAL_PATH\n",
    "    INPUT    angle\n",
    "    omega <- -angle\n",
    "    motor_speed <- 180 - abs(3 * omega)\n",
    "    limit motor_speed into range 0 to 200\n",
    "    Go forward setting as follow:\n",
    "        left  motor speed <- motor_speed - omega\n",
    "        right motor speed <- motor_speed + omega\n",
    "end\n",
    "```\n",
    "\n",
    "**2. Front obstacle**\n",
    "```\n",
    "if the front middle sensor value is greater than the threshold\n",
    "    if Thymio is too close to the obstacle\n",
    "        Go backward\n",
    "    end\n",
    "\n",
    "    if left_sensor_val - right_sensor_val < -100    # the obstacle is close to the left side\n",
    "        Turn right\n",
    "    if left_sensor_val - right_sensor_val > 100     # the obstacle is close to the right side\n",
    "        Turn left\n",
    "    else    # parallelly\n",
    "        Turn left with probability 0.05\n",
    "        Turn right with probability 0.95\n",
    "    end\n",
    "end\n",
    "\n",
    "```\n",
    "\n",
    "**3. Left/Right obstacle**\n",
    "```\n",
    "if any of two front left sensor values is greater than the threshold\n",
    "    Turn right\n",
    "end\n",
    "\n",
    "if any of two front right sensor values is greater than the threshold\n",
    "    Turn left\n",
    "end\n",
    "```\n",
    "**4. Back obstacle**\n",
    "```\n",
    "if any of two back sensor values is greater than the threshold\n",
    "    Go forward\n",
    "end\n",
    "```\n",
    "**5. Deadlock**\n",
    "```\n",
    "if Thymio continues to alternate right and left turns over 20 times\n",
    "    deadlock_flag <- TRUE\n",
    "else\n",
    "    deadlock_flag <- FALSE\n",
    "end\n",
    "if deadlock_flag is TRUE\n",
    "    Turn right until there is no more obstacle\n",
    "end\n",
    "```\n",
    "\n",
    "To make Thymio move smoothly, we set the motor speed corresponding to the distance to obstacles. Closer obstacles are, less motor speed is set.\n",
    "\n",
    "\n",
    "#### Kidnapping <a class=\"anchor\" id=\"section_5_2\"></a>\n",
    "The idea to detect whether Thymio is kidnapped or not is to check its proxy ground sensor (`prox.ground.reflected`) value corresponding to the distance to the ground. Closer Thymio is to the ground, greater the sensor value is.\n",
    "```\n",
    "if all of ground_sensor_val is less than threshold\n",
    "    kidnap <- TRUE\n",
    "else\n",
    "    kidnap <- FALSE\n",
    "end\n",
    "```\n",
    "\n",
    "\n",
    " "
   ],
   "metadata": {}
  },
  {
   "cell_type": "markdown",
   "source": [
    "### Overall Project <a class=\"anchor\" id=\"chapter6\"></a>\n",
    "\n",
    "#### Overview <a class=\"anchor\" id=\"section_6_1\"></a>\n",
    "#### Main Function <a class=\"anchor\" id=\"section_6_2\"></a>"
   ],
   "metadata": {}
  },
  {
   "cell_type": "markdown",
   "source": [
    "### Conclusion<a class=\"anchor\" id=\"chapter7\"></a>\n",
    "\n",
    "    \n",
    "\n",
    "\n"
   ],
   "metadata": {}
  },
  {
   "cell_type": "markdown",
   "source": [
    "### Sources <a class=\"anchor\" id=\"chapter8\"></a>\n",
    "\n",
    "All sources used for the project from internet\n",
    "Maybe we shouuld also talk about the session that we use from the course \n",
    "\n",
    "\n",
    "#### source 1 <a class=\"anchor\" id=\"section_8_1\"></a>\n",
    "\n",
    "#### source 2 <a class=\"anchor\" id=\"section_8_2\"></a>"
   ],
   "metadata": {}
  },
  {
   "cell_type": "code",
   "execution_count": null,
   "source": [],
   "outputs": [],
   "metadata": {}
  }
 ],
 "metadata": {
  "kernelspec": {
   "display_name": "Python 3",
   "language": "python",
   "name": "python3"
  },
  "language_info": {
   "codemirror_mode": {
    "name": "ipython",
    "version": 3
   },
   "file_extension": ".py",
   "mimetype": "text/x-python",
   "name": "python",
   "nbconvert_exporter": "python",
   "pygments_lexer": "ipython3",
   "version": "3.8.5"
  }
 },
 "nbformat": 4,
 "nbformat_minor": 4
}