{
 "cells": [
  {
   "cell_type": "code",
   "execution_count": 1,
   "id": "cc7ec140",
   "metadata": {},
   "outputs": [],
   "source": [
    "import vision\n",
    "from GlobalMapClass import GlobalMapClass\n",
    "import ShorthestPath\n",
    "from KalmanFilterClass import KalmanFilterClass\n",
    "import numpy as np"
   ]
  },
  {
   "cell_type": "markdown",
   "id": "293f370d",
   "metadata": {},
   "source": [
    "# Déclaration de Variable"
   ]
  },
  {
   "cell_type": "code",
   "execution_count": 2,
   "id": "3145ee7d",
   "metadata": {},
   "outputs": [],
   "source": [
    "#flag\n",
    "kidnap=False\n",
    "bloqued=False\n",
    "reachedGoal=False\n",
    "\n",
    "#variables declaration\n",
    "globalMap=GlobalMapClass()\n",
    "kalmanFilter=KalmanFilterClass()\n",
    "input=np.matrix([[0],[0],[0]])\n",
    "timeStep=0\n",
    "measurement=None\n",
    "angleToGoal=None"
   ]
  },
  {
   "cell_type": "code",
   "execution_count": 3,
   "id": "727d9b75",
   "metadata": {},
   "outputs": [],
   "source": [
    "import cv2"
   ]
  },
  {
   "cell_type": "code",
   "execution_count": 4,
   "id": "54aacf6c",
   "metadata": {},
   "outputs": [
    {
     "name": "stdout",
     "output_type": "stream",
     "text": [
      "[[201.5      ]\n",
      " [ 95.5      ]\n",
      " [  0.8390053]]\n"
     ]
    }
   ],
   "source": [
    "VideoCap=cv2.VideoCapture(0)\n",
    "ret, frame=VideoCap.read()\n",
    "\n",
    "print(vision.robotDetection(frame))\n",
    "kalmanFilter.setState(vision.robotDetection())"
   ]
  },
  {
   "cell_type": "markdown",
   "id": "f6847e8c",
   "metadata": {},
   "source": [
    "# Initialisation"
   ]
  },
  {
   "cell_type": "code",
   "execution_count": null,
   "id": "1e6ea17f",
   "metadata": {},
   "outputs": [],
   "source": [
    "#Vision initialisation\n",
    "vision.initialize()\n",
    "\n",
    "#Kalman filter initialisation\n",
    "kalmaFilter.setState(vision.robotDetection())\n",
    "\n",
    "#map initialisation\n",
    "gloablMap.mapSize(vision.height, vision.width)\n",
    "globalMap.setPos(kalmanFilter.x)\n",
    "globalMap.setGoal(vision.goalDetection())\n",
    "globalMap.setObstacles(vision.obstaclesDetection())\n",
    "\n",
    "#Shorthest path computation\n",
    "gloablMap.setPath(ShorthestPath.aStar(globalMap.getObstacles(),gloablMap.getMapSize()[0],\n",
    "                                      gloablMap.getMapSize()[1], gloablMap.getPos(),\n",
    "                                      globalMap.getGoal()))\n"
   ]
  }
 ],
 "metadata": {
  "kernelspec": {
   "display_name": "Python 3 (ipykernel)",
   "language": "python",
   "name": "python3"
  },
  "language_info": {
   "codemirror_mode": {
    "name": "ipython",
    "version": 3
   },
   "file_extension": ".py",
   "mimetype": "text/x-python",
   "name": "python",
   "nbconvert_exporter": "python",
   "pygments_lexer": "ipython3",
   "version": "3.9.7"
  }
 },
 "nbformat": 4,
 "nbformat_minor": 5
}
