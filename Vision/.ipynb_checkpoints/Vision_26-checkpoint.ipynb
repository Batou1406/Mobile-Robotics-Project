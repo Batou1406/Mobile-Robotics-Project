{
 "cells": [
  {
   "cell_type": "markdown",
   "metadata": {},
   "source": [
    "# Final MAP"
   ]
  },
  {
   "cell_type": "markdown",
   "metadata": {},
   "source": [
    "# Webcam Test"
   ]
  },
  {
   "cell_type": "code",
   "execution_count": 2,
   "metadata": {},
   "outputs": [],
   "source": [
    "import cv2\n",
    "\n",
    "cap = cv2.VideoCapture(0)\n",
    "\n",
    "# Check if the webcam is opened correctly\n",
    "if not cap.isOpened():\n",
    "    raise IOError(\"Cannot open webcam\")\n",
    "\n",
    "while True:\n",
    "    ret, frame = cap.read()\n",
    "    frame = cv2.resize(frame, None, fx=0.5, fy=0.5, interpolation=cv2.INTER_AREA)\n",
    "    cv2.imshow('Input', frame)\n",
    "\n",
    "    c = cv2.waitKey(1)\n",
    "    if c == 27:\n",
    "        break\n",
    "\n",
    "cap.release()\n",
    "cv2.destroyAllWindows()"
   ]
  },
  {
   "cell_type": "markdown",
   "metadata": {},
   "source": [
    "# Read and Blur"
   ]
  },
  {
   "cell_type": "code",
   "execution_count": 1,
   "metadata": {},
   "outputs": [
    {
     "data": {
      "text/plain": [
       "<matplotlib.image.AxesImage at 0x7fb96ad69cd0>"
      ]
     },
     "execution_count": 1,
     "metadata": {},
     "output_type": "execute_result"
    },
    {
     "data": {
      "text/plain": [
       "<Figure size 432x288 with 1 Axes>"
      ]
     },
     "metadata": {
      "needs_background": "light"
     },
     "output_type": "display_data"
    }
   ],
   "source": [
    "#importing the required libraries \n",
    "import numpy as np \n",
    "import cv2 \n",
    "import matplotlib.pyplot as plt \n",
    "from matplotlib import colors\n",
    "%matplotlib inline \n",
    "\n",
    "kernel_size_blur = 10\n",
    "\n",
    "map_raw = cv2.imread('Final_map.jpg') \n",
    "map_blur = cv2.blur(map_raw,(kernel_size_blur,kernel_size_blur))\n",
    "\n",
    "plt.imshow(map_blur)"
   ]
  },
  {
   "cell_type": "markdown",
   "metadata": {},
   "source": [
    "# Convert to RGB"
   ]
  },
  {
   "cell_type": "code",
   "execution_count": null,
   "metadata": {},
   "outputs": [],
   "source": [
    "# convert to RGB\n",
    "map_rgb = cv2.cvtColor(map_blur, cv2.COLOR_BGR2RGB)\n",
    "plt.imshow(map_rgb)"
   ]
  },
  {
   "cell_type": "markdown",
   "metadata": {},
   "source": [
    "# Bilateral Filter (reduce noise)"
   ]
  },
  {
   "cell_type": "code",
   "execution_count": null,
   "metadata": {},
   "outputs": [],
   "source": [
    "kernel_size_bilateral = 5\n",
    "sigma = 15\n",
    "map_bilateral = cv2.bilateralFilter(map_rgb,kernel_size_bilateral,sigma,sigma)\n",
    "plt.imshow(map_bilateral)"
   ]
  },
  {
   "cell_type": "markdown",
   "metadata": {},
   "source": [
    "# Gray Image"
   ]
  },
  {
   "cell_type": "code",
   "execution_count": null,
   "metadata": {},
   "outputs": [],
   "source": [
    "# convert to grayscale\n",
    "map_gray = cv2.cvtColor(map_bilateral, cv2.COLOR_RGB2GRAY)\n",
    "plt.imshow(map_gray)"
   ]
  },
  {
   "cell_type": "markdown",
   "metadata": {},
   "source": [
    "# Binary Threshold"
   ]
  },
  {
   "cell_type": "code",
   "execution_count": null,
   "metadata": {
    "scrolled": true
   },
   "outputs": [],
   "source": [
    "_, map_binary = cv2.threshold(map_gray, 70, 255, cv2.THRESH_BINARY_INV)\n",
    "plt.imshow(map_binary, cmap=\"gray\")"
   ]
  },
  {
   "cell_type": "markdown",
   "metadata": {},
   "source": [
    "# Morphological Operators (for \"ideal\" map)"
   ]
  },
  {
   "cell_type": "code",
   "execution_count": null,
   "metadata": {},
   "outputs": [],
   "source": [
    "kernel_morph = np.ones((10,10),np.uint8)\n",
    "map_clean = cv2.morphologyEx(map_binary, cv2.MORPH_OPEN, kernel_morph)\n",
    "plt.imshow(map_clean)"
   ]
  },
  {
   "cell_type": "markdown",
   "metadata": {},
   "source": [
    "# Obstacle Detection (Removing Thymios)"
   ]
  },
  {
   "cell_type": "code",
   "execution_count": null,
   "metadata": {},
   "outputs": [],
   "source": [
    "kernel_remove = np.ones((60,60),np.uint8)\n",
    "kernel_dilate = np.ones((220,220),np.uint8)\n",
    "map_obstacle = cv2.erode(map_clean, kernel_remove, iterations=1) \n",
    "map_occupancy=cv2.dilate(map_obstacle, kernel_dilate, iterations=1) \n",
    "plt.imshow(map_occupancy)"
   ]
  },
  {
   "cell_type": "markdown",
   "metadata": {},
   "source": [
    "# Occupancy Grid"
   ]
  },
  {
   "cell_type": "code",
   "execution_count": null,
   "metadata": {},
   "outputs": [],
   "source": [
    "def create_empty_plot(max_width, max_height):\n",
    "    \"\"\"\n",
    "    Helper function to create a figure of the desired dimensions & grid\n",
    "    \n",
    "    :param max_val: dimension of the map along the x and y dimensions\n",
    "    :return: the fig and ax objects.\n",
    "    \"\"\"\n",
    "    fig, ax = plt.subplots(figsize=(7,7))\n",
    "    \n",
    "    major_ticks_x = np.arange(0, max_width+1, 5)\n",
    "    minor_ticks_x = np.arange(0, max_width+1, 1)\n",
    "    major_ticks_y = np.arange(0, max_height+1, 5)\n",
    "    minor_ticks_y = np.arange(0, max_height+1, 1)\n",
    "    ax.set_xticks(major_ticks_x)\n",
    "    ax.set_xticks(minor_ticks_x, minor=True)\n",
    "    ax.set_yticks(major_ticks_y)\n",
    "    ax.set_yticks(minor_ticks_y, minor=True)\n",
    "    ax.grid(which='minor', alpha=0.2)\n",
    "    ax.grid(which='major', alpha=0.5)\n",
    "    ax.set_ylim([-1,max_height])\n",
    "    ax.set_xlim([-1,max_width])\n",
    "    ax.grid(True)\n",
    "    \n",
    "    return fig, ax"
   ]
  },
  {
   "cell_type": "code",
   "execution_count": null,
   "metadata": {},
   "outputs": [],
   "source": [
    "#Creating the grid\n",
    "height = 40 # Size of the map\n",
    "width = round(map_occupancy.shape[1]/map_occupancy.shape[0]*height)\n",
    "\n",
    "fig, ax = create_empty_plot(width,height)\n",
    "\n",
    "# Creating the occupancy grid\n",
    "#np.random.seed(0) # To guarantee the same outcome on all computers\n",
    "#data = np.random.rand(max_val, max_val) * 20 # Create a grid of 50 x 50 random values\n",
    "#cmap = colors.ListedColormap(['white', 'red']) # Select the colors with which to display obstacles and free cells\n",
    "\n",
    "occupancy_grid = np.ones((height,width))\n",
    "n = round(map_occupancy.shape[0]/height)\n",
    "\n",
    "for i in range(height):\n",
    "    for j in range(width):\n",
    "        result = np.sum(map_occupancy[n*i:n*(i+1),n*j:n*(j+1)])\n",
    "        if result > 0 : \n",
    "            occupancy_grid[i,j] = 0\n",
    "        \n",
    "        \n",
    "\n",
    "# Displaying the map\n",
    "plt.imshow(occupancy_grid, cmap=\"gray\")\n",
    "plt.show()"
   ]
  },
  {
   "cell_type": "markdown",
   "metadata": {},
   "source": [
    "# Thymio Detection"
   ]
  },
  {
   "cell_type": "code",
   "execution_count": null,
   "metadata": {},
   "outputs": [],
   "source": []
  },
  {
   "cell_type": "code",
   "execution_count": null,
   "metadata": {},
   "outputs": [],
   "source": []
  },
  {
   "cell_type": "code",
   "execution_count": 66,
   "metadata": {},
   "outputs": [
    {
     "data": {
      "text/plain": [
       "<matplotlib.image.AxesImage at 0x7fcb40054340>"
      ]
     },
     "execution_count": 66,
     "metadata": {},
     "output_type": "execute_result"
    },
    {
     "data": {
      "image/png": "[encoded data removed]",
      "text/plain": [
       "<Figure size 432x288 with 1 Axes>"
      ]
     },
     "metadata": {
      "needs_background": "light"
     },
     "output_type": "display_data"
    },
    {
     "data": {
      "image/png": "[encoded data removed]",
      "text/plain": [
       "<Figure size 432x288 with 1 Axes>"
      ]
     },
     "metadata": {
      "needs_background": "light"
     },
     "output_type": "display_data"
    },
    {
     "data": {
      "image/png": "[encoded data removed]",
      "text/plain": [
       "<Figure size 432x288 with 1 Axes>"
      ]
     },
     "metadata": {
      "needs_background": "light"
     },
     "output_type": "display_data"
    }
   ],
   "source": [
    "#tuto4 à rajouter source\n",
    "\n",
    "import cv2\n",
    "import numpy as np\n",
    "from matplotlib import pyplot as plt\n",
    "\n",
    "lo=np.array([0, 100, 50])\n",
    "hi=np.array([20, 255, 255])\n",
    "color_infos=(0, 255, 255)\n",
    "kernel_size=5\n",
    "kernel=np.ones((5,5),np.uint8)\n",
    "#cap=cv2.VideoCapture(0)\n",
    "frame = cv2.imread('MAP_3.jpg')\n",
    "avg_img   = cv2.blur(frame,(kernel_size,kernel_size))\n",
    "\n",
    "#frame= cv2.cvtColor(frame, cv2.COLOR_BGR2RGB)\n",
    "\n",
    "#gray = cv2.cvtColor(image, cv2.COLOR_RGB2GRAY)\n",
    "#ret, frame=cap.read()\n",
    "image=cv2.cvtColor(frame, cv2.COLOR_BGR2HSV)\n",
    "mask=cv2.inRange(image, lo, hi)\n",
    "\n",
    "mask2=cv2.erode(mask,kernel, iterations=2)   \n",
    "plt.imshow(mask2)\n",
    "mask3=cv2.dilate(mask2, kernel, iterations=2 )  \n",
    "image2=cv2.bitwise_and(frame, frame, mask=mask)\n",
    "\n",
    "plt.imshow(frame[:,:,::-1])\n",
    "plt.figure()\n",
    "plt.imshow(image2[:,:,::-1])\n",
    "plt.figure()\n",
    "plt.imshow(mask3, cmap = 'gray')\n",
    "#mask.shape[1]\n",
    "\n",
    "#cv2.imshow('Camera', frame)\n",
    "#cv2.imshow('image2', image2)\n",
    "#cv2.imshow('Mask', mask)\n"
   ]
  },
  {
   "cell_type": "code",
   "execution_count": 67,
   "metadata": {},
   "outputs": [
    {
     "data": {
      "text/plain": [
       "<matplotlib.image.AxesImage at 0x7fcb8ac20a90>"
      ]
     },
     "execution_count": 67,
     "metadata": {},
     "output_type": "execute_result"
    },
    {
     "data": {
      "image/png": "[encoded data removed]",
      "text/plain": [
       "<Figure size 432x288 with 1 Axes>"
      ]
     },
     "metadata": {
      "needs_background": "light"
     },
     "output_type": "display_data"
    }
   ],
   "source": [
    "gray = cv2.cvtColor(image2, cv2.COLOR_BGR2GRAY)\n",
    "circles = cv2.HoughCircles(gray,cv2.HOUGH_GRADIENT,1,20,param1=100,param2=10,minRadius=0,maxRadius=100)\n",
    "#print(circles[0, 0])\n",
    "wanted_circle = circles[0, 0]\n",
    "cv2.circle(image2, (int(wanted_circle[0]), int(wanted_circle[1])), int(wanted_circle[2]), (0, 255, 0), 2)\n",
    "plt.imshow(image2[:,:,::-1])"
   ]
  },
  {
   "cell_type": "code",
   "execution_count": 69,
   "metadata": {},
   "outputs": [
    {
     "data": {
      "text/plain": [
       "<matplotlib.image.AxesImage at 0x7fcb8abe7460>"
      ]
     },
     "execution_count": 69,
     "metadata": {},
     "output_type": "execute_result"
    },
    {
     "data": {
      "image/png": "[encoded data removed]",
      "text/plain": [
       "<Figure size 432x288 with 1 Axes>"
      ]
     },
     "metadata": {
      "needs_background": "light"
     },
     "output_type": "display_data"
    },
    {
     "data": {
      "image/png": "[encoded data removed]",
      "text/plain": [
       "<Figure size 432x288 with 1 Axes>"
      ]
     },
     "metadata": {
      "needs_background": "light"
     },
     "output_type": "display_data"
    },
    {
     "data": {
      "image/png": "[encoded data removed]",
      "text/plain": [
       "<Figure size 432x288 with 1 Axes>"
      ]
     },
     "metadata": {
      "needs_background": "light"
     },
     "output_type": "display_data"
    }
   ],
   "source": [
    "import cv2\n",
    "import numpy as np\n",
    "from matplotlib import pyplot as plt\n",
    "\n",
    "\n",
    "\n",
    "lo=np.array([40, 100, 50])\n",
    "hi=np.array([70, 255, 255])\n",
    "color_infos=(0, 255, 255)\n",
    "#cap=cv2.VideoCapture(0)\n",
    "frame = cv2.imread('MAP_3.jpg')\n",
    "#frame= cv2.cvtColor(frame, cv2.COLOR_BGR2RGB)\n",
    "\n",
    "#gray = cv2.cvtColor(image, cv2.COLOR_RGB2GRAY)\n",
    "#ret, frame=cap.read()\n",
    "image=cv2.cvtColor(frame, cv2.COLOR_BGR2HSV)\n",
    "mask=cv2.inRange(image, lo, hi)\n",
    "kernel=np.ones((5,5),np.uint8)\n",
    "mask2=cv2.erode(mask,kernel, iterations=2)   \n",
    "plt.imshow(mask2)\n",
    "mask3=cv2.dilate(mask2, kernel, iterations=2 )  \n",
    "image2=cv2.bitwise_and(frame, frame, mask=mask)\n",
    "\n",
    "plt.imshow(frame[:,:,::-1])\n",
    "plt.figure()\n",
    "plt.imshow(image2[:,:,::-1])\n",
    "plt.figure()\n",
    "plt.imshow(mask3, cmap = 'gray')\n",
    "#mask.shape[1]\n",
    "\n",
    "#cv2.imshow('Camera', frame)\n",
    "#cv2.imshow('image2', image2)\n",
    "#cv2.imshow('Mask', mask)"
   ]
  },
  {
   "cell_type": "code",
   "execution_count": 70,
   "metadata": {},
   "outputs": [
    {
     "data": {
      "text/plain": [
       "<matplotlib.image.AxesImage at 0x7fcb590da310>"
      ]
     },
     "execution_count": 70,
     "metadata": {},
     "output_type": "execute_result"
    },
    {
     "data": {
      "image/png": "[encoded data removed]",
      "text/plain": [
       "<Figure size 432x288 with 1 Axes>"
      ]
     },
     "metadata": {
      "needs_background": "light"
     },
     "output_type": "display_data"
    }
   ],
   "source": [
    "gray = cv2.cvtColor(image2, cv2.COLOR_BGR2GRAY)\n",
    "circles = cv2.HoughCircles(gray,cv2.HOUGH_GRADIENT,1,20,param1=100,param2=10,minRadius=0,maxRadius=100)\n",
    "for circle in circles[0, :]:\n",
    "    cv2.circle(image2, (int(circle[0]), int(circle[1])), int(circle[2]), (0, 255, 0), 2)\n",
    "plt.imshow(image2)"
   ]
  },
  {
   "cell_type": "code",
   "execution_count": 77,
   "metadata": {},
   "outputs": [
    {
     "data": {
      "text/plain": [
       "array([979.5, 588.5,  25.7], dtype=float32)"
      ]
     },
     "execution_count": 77,
     "metadata": {},
     "output_type": "execute_result"
    }
   ],
   "source": [
    "circles[0][0]"
   ]
  },
  {
   "cell_type": "code",
   "execution_count": 72,
   "metadata": {},
   "outputs": [
    {
     "data": {
      "text/plain": [
       "array([940.5, 595.5,  13. ], dtype=float32)"
      ]
     },
     "execution_count": 72,
     "metadata": {},
     "output_type": "execute_result"
    }
   ],
   "source": [
    "circles[0][1]"
   ]
  },
  {
   "cell_type": "code",
   "execution_count": 79,
   "metadata": {},
   "outputs": [],
   "source": [
    "if circles[0][0][2] > circles[0][1][2]:\n",
    "    xp,yp,rp = circles[0][1]\n",
    "    xg,yg,rg = circles[0][0]\n",
    "else:\n",
    "    xp,yp,rp = circles[0][0]\n",
    "    xg,yg,rg = circles[0][1]\n",
    "    "
   ]
  },
  {
   "cell_type": "code",
   "execution_count": 80,
   "metadata": {},
   "outputs": [
    {
     "name": "stdout",
     "output_type": "stream",
     "text": [
      "[-39.   7.]\n"
     ]
    },
    {
     "data": {
      "text/plain": [
       "-39.0"
      ]
     },
     "execution_count": 80,
     "metadata": {},
     "output_type": "execute_result"
    }
   ],
   "source": [
    "direction = np.array([xp-xg,yp-yg])\n",
    "print(direction)\n",
    "direction[0]"
   ]
  },
  {
   "cell_type": "code",
   "execution_count": 81,
   "metadata": {},
   "outputs": [
    {
     "data": {
      "text/plain": [
       "2.9639964"
      ]
     },
     "execution_count": 81,
     "metadata": {},
     "output_type": "execute_result"
    }
   ],
   "source": [
    "teta=np.arctan2(direction[1], direction[0])\n",
    "teta"
   ]
  },
  {
   "cell_type": "code",
   "execution_count": null,
   "metadata": {},
   "outputs": [],
   "source": []
  },
  {
   "cell_type": "code",
   "execution_count": null,
   "metadata": {},
   "outputs": [],
   "source": []
  }
 ],
 "metadata": {
  "kernelspec": {
   "display_name": "Python 3",
   "language": "python",
   "name": "python3"
  },
  "language_info": {
   "codemirror_mode": {
    "name": "ipython",
    "version": 3
   },
   "file_extension": ".py",
   "mimetype": "text/x-python",
   "name": "python",
   "nbconvert_exporter": "python",
   "pygments_lexer": "ipython3",
   "version": "3.8.5"
  }
 },
 "nbformat": 4,
 "nbformat_minor": 4
}
