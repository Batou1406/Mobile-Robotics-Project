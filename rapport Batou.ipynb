{
 "cells": [
  {
   "cell_type": "markdown",
   "id": "52a7e685",
   "metadata": {},
   "source": [
    "## 2. Computer Vision <a class=\"anchor\" id=\"chapter2\"></a>\n",
    "\n",
    "### 2.1 Calibration <a class=\"anchor\" id=\"section_2_1\"></a>\n",
    "\n",
    "We will detect the robot, goal by filtering a specific color out of an image with a cv2.inRange filter based on an image either in HSV format or in RGB format. For simplicity we will refer them as HSV filter and RGB filter thereafter. The obstacles will be detected based on a cv2.treshhold filter. \n",
    "\n",
    "The Ligthing conditions may differ tremendously during the day or from one place to another. This was the motivation to make calibration easy, fast and intuitive for each attempt. In order to do so, we launch a program to manually and simply calibrate the value of the RGB or HSV filter for goal and robot detection as well as treshhold filter for obstacles detection."
   ]
  },
  {
   "cell_type": "code",
   "execution_count": 2,
   "id": "4a71becc",
   "metadata": {},
   "outputs": [
    {
     "ename": "UnboundLocalError",
     "evalue": "local variable 'G1' referenced before assignment",
     "output_type": "error",
     "traceback": [
      "\u001b[1;31m---------------------------------------------------------------------------\u001b[0m",
      "\u001b[1;31mUnboundLocalError\u001b[0m                         Traceback (most recent call last)",
      "\u001b[1;32m~\\AppData\\Local\\Temp/ipykernel_5924/3652627244.py\u001b[0m in \u001b[0;36m<module>\u001b[1;34m\u001b[0m\n\u001b[0;32m      1\u001b[0m \u001b[1;32mimport\u001b[0m \u001b[0mcalibrate\u001b[0m\u001b[1;33m\u001b[0m\u001b[1;33m\u001b[0m\u001b[0m\n\u001b[1;32m----> 2\u001b[1;33m \u001b[0mprint\u001b[0m\u001b[1;33m(\u001b[0m\u001b[0mcalibrate\u001b[0m\u001b[1;33m.\u001b[0m\u001b[0mcalibration\u001b[0m\u001b[1;33m(\u001b[0m\u001b[1;33m)\u001b[0m\u001b[1;33m)\u001b[0m\u001b[1;33m\u001b[0m\u001b[1;33m\u001b[0m\u001b[0m\n\u001b[0m",
      "\u001b[1;32m~\\Documents\\2. EPFL\\MA1\\Basics of Moible Robotics\\MobileRoboticsGit\\calibrate.py\u001b[0m in \u001b[0;36mcalibration\u001b[1;34m()\u001b[0m\n\u001b[0;32m    151\u001b[0m             \u001b[0mtreshhold\u001b[0m\u001b[1;33m=\u001b[0m\u001b[0mmax\u001b[0m\u001b[1;33m(\u001b[0m\u001b[1;36m1\u001b[0m\u001b[1;33m,\u001b[0m \u001b[0mtreshhold\u001b[0m\u001b[1;33m-\u001b[0m\u001b[1;36m1\u001b[0m\u001b[1;33m)\u001b[0m\u001b[1;33m\u001b[0m\u001b[1;33m\u001b[0m\u001b[0m\n\u001b[0;32m    152\u001b[0m \u001b[1;33m\u001b[0m\u001b[0m\n\u001b[1;32m--> 153\u001b[1;33m     \u001b[1;32mreturn\u001b[0m \u001b[0mG1\u001b[0m\u001b[1;33m,\u001b[0m \u001b[0mG2\u001b[0m\u001b[1;33m,\u001b[0m \u001b[0mG3\u001b[0m\u001b[1;33m,\u001b[0m \u001b[0mHSVG\u001b[0m\u001b[1;33m,\u001b[0m \u001b[0mR1\u001b[0m\u001b[1;33m,\u001b[0m \u001b[0mR2\u001b[0m\u001b[1;33m,\u001b[0m \u001b[0mR3\u001b[0m\u001b[1;33m,\u001b[0m \u001b[0mHSVR\u001b[0m\u001b[1;33m,\u001b[0m \u001b[0mtreshhold\u001b[0m\u001b[1;33m\u001b[0m\u001b[1;33m\u001b[0m\u001b[0m\n\u001b[0m",
      "\u001b[1;31mUnboundLocalError\u001b[0m: local variable 'G1' referenced before assignment"
     ]
    }
   ],
   "source": [
    "import calibrate\n",
    "print(calibrate.calibration())\n"
   ]
  }
 ],
 "metadata": {
  "kernelspec": {
   "display_name": "Python 3 (ipykernel)",
   "language": "python",
   "name": "python3"
  },
  "language_info": {
   "codemirror_mode": {
    "name": "ipython",
    "version": 3
   },
   "file_extension": ".py",
   "mimetype": "text/x-python",
   "name": "python",
   "nbconvert_exporter": "python",
   "pygments_lexer": "ipython3",
   "version": "3.9.7"
  }
 },
 "nbformat": 4,
 "nbformat_minor": 5
}
