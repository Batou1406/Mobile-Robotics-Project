{
 "cells": [
  {
   "cell_type": "markdown",
   "id": "26fcc311",
   "metadata": {},
   "source": [
    "## 2. Computer Vision <a class=\"anchor\" id=\"chapter2\"></a>\n",
    "\n",
    "### 2.1 Calibration <a class=\"anchor\" id=\"section_2_1\"></a>\n",
    "\n",
    "We will detect the robot, goal by filtering a specific color out of an image with a cv2.inRange filter based on an image either in HSV format or in RGB format. For simplicity we will refer them as HSV filter and RGB filter thereafter. The obstacles will be detected based on a cv2.treshhold filter. \n",
    "\n",
    "The Ligthing conditions may differ tremendously during the day or from one place to another. This was the motivation to make calibration easy, fast and intuitive for each attempt. In order to do so, we launch a program to manually and simply calibrate the value of the RGB or HSV filter for goal and robot detection as well as treshhold filter for obstacles detection."
   ]
  },
  {
   "cell_type": "code",
   "execution_count": 2,
   "id": "54a2fffe",
   "metadata": {},
   "outputs": [
    {
     "name": "stdout",
     "output_type": "stream",
     "text": [
      "(0, 0, 0, False, 0, 0, 0, False, 70)\n"
     ]
    }
   ],
   "source": [
    "import calibrate\n",
    "print(calibrate.calibration())\n"
   ]
  }
 ],
 "metadata": {
  "kernelspec": {
   "display_name": "Python 3 (ipykernel)",
   "language": "python",
   "name": "python3"
  },
  "language_info": {
   "codemirror_mode": {
    "name": "ipython",
    "version": 3
   },
   "file_extension": ".py",
   "mimetype": "text/x-python",
   "name": "python",
   "nbconvert_exporter": "python",
   "pygments_lexer": "ipython3",
   "version": "3.9.7"
  }
 },
 "nbformat": 4,
 "nbformat_minor": 5
}
