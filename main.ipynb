{
 "cells": [
  {
   "cell_type": "code",
   "execution_count": 1,
   "id": "cc7ec140",
   "metadata": {},
   "outputs": [],
   "source": [
    "import vision\n",
    "from GlobalMapClass import GlobalMapClass\n",
    "import ShorthestPath\n",
    "from KalmanFilterClass import KalmanFilterClass\n",
    "import numpy as np"
   ]
  },
  {
   "cell_type": "markdown",
   "id": "83ec2359",
   "metadata": {},
   "source": [
    "# Déclaration de Variable"
   ]
  },
  {
   "cell_type": "code",
   "execution_count": 2,
   "id": "3145ee7d",
   "metadata": {},
   "outputs": [],
   "source": [
    "#flag\n",
    "kidnap=False\n",
    "bloqued=False\n",
    "reachedGoal=False\n",
    "\n",
    "#variables declaration\n",
    "globalMap=GlobalMapClass()\n",
    "kalmanFilter=KalmanFilterClass()\n",
    "input=np.matrix([[0],[0],[0]])\n",
    "timeStep=0\n",
    "measurement=None\n",
    "angleToGoal=None"
   ]
  },
  {
   "cell_type": "code",
   "execution_count": 3,
   "id": "b9900347",
   "metadata": {},
   "outputs": [],
   "source": [
    "import cv2"
   ]
  },
  {
   "cell_type": "code",
   "execution_count": 4,
   "id": "9869ec03",
   "metadata": {},
   "outputs": [
    {
     "name": "stdout",
     "output_type": "stream",
     "text": [
      "[[201.5      ]\n",
      " [ 95.5      ]\n",
      " [  0.8390053]]\n"
     ]
    }
   ],
   "source": [
    "VideoCap=cv2.VideoCapture(0)\n",
    "ret, frame=VideoCap.read()\n",
    "imshow(frame)\n",
    "print(vision.robotDetection(frame))\n",
    "kalmanFilter.setState(vision.robotDetection())"
   ]
  },
  {
   "cell_type": "code",
   "execution_count": 11,
   "id": "5561d464",
   "metadata": {},
   "outputs": [
    {
     "name": "stdout",
     "output_type": "stream",
     "text": [
      "[matrix([[51.98148]], dtype=float32), matrix([[11.24074]], dtype=float32), matrix([[0.37239844]], dtype=float32)]\n"
     ]
    },
    {
     "ename": "TypeError",
     "evalue": "unhashable type: 'list'",
     "output_type": "error",
     "traceback": [
      "\u001b[1;31m---------------------------------------------------------------------------\u001b[0m",
      "\u001b[1;31mTypeError\u001b[0m                                 Traceback (most recent call last)",
      "\u001b[1;32m~\\AppData\\Local\\Temp/ipykernel_8568/157562121.py\u001b[0m in \u001b[0;36m<module>\u001b[1;34m\u001b[0m\n\u001b[0;32m     13\u001b[0m \u001b[0mglobalMap\u001b[0m\u001b[1;33m.\u001b[0m\u001b[0msetPos\u001b[0m\u001b[1;33m(\u001b[0m\u001b[1;33m[\u001b[0m\u001b[0mthymio_pos\u001b[0m\u001b[1;33m[\u001b[0m\u001b[1;36m0\u001b[0m\u001b[1;33m]\u001b[0m\u001b[1;33m[\u001b[0m\u001b[1;36m0\u001b[0m\u001b[1;33m]\u001b[0m\u001b[1;33m/\u001b[0m\u001b[0mratio\u001b[0m\u001b[1;33m,\u001b[0m \u001b[0mgrid_size\u001b[0m\u001b[1;33m-\u001b[0m\u001b[0mthymio_pos\u001b[0m\u001b[1;33m[\u001b[0m\u001b[1;36m1\u001b[0m\u001b[1;33m]\u001b[0m\u001b[1;33m/\u001b[0m\u001b[0mratio\u001b[0m\u001b[1;33m,\u001b[0m \u001b[1;33m-\u001b[0m\u001b[0mglobalMap\u001b[0m\u001b[1;33m.\u001b[0m\u001b[0mrobot\u001b[0m\u001b[1;33m[\u001b[0m\u001b[1;36m2\u001b[0m\u001b[1;33m]\u001b[0m\u001b[1;33m]\u001b[0m\u001b[1;33m)\u001b[0m\u001b[1;33m\u001b[0m\u001b[1;33m\u001b[0m\u001b[0m\n\u001b[0;32m     14\u001b[0m \u001b[0mprint\u001b[0m\u001b[1;33m(\u001b[0m\u001b[0mglobalMap\u001b[0m\u001b[1;33m.\u001b[0m\u001b[0mgetPos\u001b[0m\u001b[1;33m(\u001b[0m\u001b[1;33m)\u001b[0m\u001b[1;33m)\u001b[0m\u001b[1;33m\u001b[0m\u001b[1;33m\u001b[0m\u001b[0m\n\u001b[1;32m---> 15\u001b[1;33m globalMap.setPath(ShorthestPath.astar(globalMap.obstacles,height,\n\u001b[0m\u001b[0;32m     16\u001b[0m                                       \u001b[0mwidth\u001b[0m\u001b[1;33m,\u001b[0m \u001b[0mglobalMap\u001b[0m\u001b[1;33m.\u001b[0m\u001b[0mgetPos\u001b[0m\u001b[1;33m(\u001b[0m\u001b[1;33m)\u001b[0m\u001b[1;33m,\u001b[0m\u001b[1;33m\u001b[0m\u001b[1;33m\u001b[0m\u001b[0m\n\u001b[0;32m     17\u001b[0m                                       globalMap.getGoal()))\n",
      "\u001b[1;32m~\\Documents\\2. EPFL\\MA1\\Basics of Moible Robotics\\MobileRoboticsGit\\ShorthestPath.py\u001b[0m in \u001b[0;36mastar\u001b[1;34m(obstaclesGrid, height, width, start, goal)\u001b[0m\n\u001b[0;32m     18\u001b[0m     \u001b[0mclose_set\u001b[0m\u001b[1;33m=\u001b[0m\u001b[0mset\u001b[0m\u001b[1;33m(\u001b[0m\u001b[1;33m)\u001b[0m\u001b[1;33m\u001b[0m\u001b[1;33m\u001b[0m\u001b[0m\n\u001b[0;32m     19\u001b[0m     \u001b[0mcame_from\u001b[0m\u001b[1;33m=\u001b[0m\u001b[1;33m{\u001b[0m\u001b[1;33m}\u001b[0m\u001b[1;33m\u001b[0m\u001b[1;33m\u001b[0m\u001b[0m\n\u001b[1;32m---> 20\u001b[1;33m     \u001b[0mgscore\u001b[0m\u001b[1;33m=\u001b[0m\u001b[1;33m{\u001b[0m\u001b[0mstart\u001b[0m\u001b[1;33m:\u001b[0m\u001b[1;36m0\u001b[0m\u001b[1;33m}\u001b[0m\u001b[1;33m\u001b[0m\u001b[1;33m\u001b[0m\u001b[0m\n\u001b[0m\u001b[0;32m     21\u001b[0m     \u001b[0mfscore\u001b[0m\u001b[1;33m=\u001b[0m\u001b[1;33m{\u001b[0m\u001b[0mstart\u001b[0m\u001b[1;33m:\u001b[0m\u001b[0mheuristic\u001b[0m\u001b[1;33m(\u001b[0m\u001b[0mstart\u001b[0m\u001b[1;33m,\u001b[0m \u001b[0mgoal\u001b[0m\u001b[1;33m)\u001b[0m\u001b[1;33m}\u001b[0m\u001b[1;33m\u001b[0m\u001b[1;33m\u001b[0m\u001b[0m\n\u001b[0;32m     22\u001b[0m     \u001b[0moheap\u001b[0m\u001b[1;33m=\u001b[0m\u001b[1;33m[\u001b[0m\u001b[1;33m]\u001b[0m\u001b[1;33m\u001b[0m\u001b[1;33m\u001b[0m\u001b[0m\n",
      "\u001b[1;31mTypeError\u001b[0m: unhashable type: 'list'"
     ]
    }
   ],
   "source": [
    "map_raw = cv2.imread('Final_map.jpg')\n",
    "grid_size = 40\n",
    "globalMap.setObstacles(vision.obstaclesDetection(map_raw, grid_size))\n",
    "globalMap.setPos(vision.robotDetection(map_raw))\n",
    "globalMap.setGoal(vision.goalDetection(map_raw))\n",
    "goal_pos=globalMap.getPos()\n",
    "thymio_pos=globalMap.getGoal()\n",
    "map_occupancy = vision.preprocessing(map_raw)\n",
    "height = grid_size # Size of the grid\n",
    "width = round(map_occupancy.shape[1]/map_occupancy.shape[0]*height)\n",
    "ratio = round(map_occupancy.shape[0]/height)\n",
    "globalMap.setGoal([goal_pos[0]/ratio, grid_size-goal_pos[1]/ratio])\n",
    "globalMap.setPos([thymio_pos[0][0]/ratio, grid_size-thymio_pos[1]/ratio, -globalMap.robot[2]])\n",
    "print([thymio_pos[0][0]/ratio, grid_size-thymio_pos[1]/ratio, -globalMap.robot[2]])\n",
    "print(globalMap.getPos())\n",
    "globalMap.setPath(ShorthestPath.astar(globalMap.obstacles,height,\n",
    "                                      width, globalMap.getPos(),\n",
    "                                      globalMap.getGoal()))"
   ]
  },
  {
   "cell_type": "code",
   "execution_count": null,
   "id": "d5a59ca9",
   "metadata": {},
   "outputs": [],
   "source": [
    "import matplotlib.pyplot as plt\n",
    "from matplotlib.pyplot import figure\n",
    "\n",
    "\n",
    "\n",
    "# plot map and path\n",
    "fig, ax = plt.subplots(figsize=(20,20))\n",
    "ax.imshow(grid, cmap=plt.cm.Dark2)\n",
    "ax.scatter(start[1],start[0], marker = \"*\", color = \"yellow\", s = 200)\n",
    "ax.scatter(goal[1],goal[0], marker = \"*\", color = \"red\", s = 200)\n",
    "ax.plot(y_coords,x_coords, color = \"black\")\n",
    "plt.show()"
   ]
  },
  {
   "cell_type": "markdown",
   "id": "fa51c9c6",
   "metadata": {},
   "source": [
    "# Initialisation"
   ]
  },
  {
   "cell_type": "code",
   "execution_count": null,
   "id": "a0d5f82e",
   "metadata": {},
   "outputs": [],
   "source": [
    "#Vision initialisation\n",
    "vision.initialize()\n",
    "\n",
    "#Kalman filter initialisation\n",
    "kalmanFilter.setState(vision.robotDetection())\n",
    "\n",
    "#map initialisation\n",
    "gloablMap.mapSize(vision.height, vision.width)\n",
    "globalMap.setPos(kalmanFilter.x)\n",
    "globalMap.setGoal(vision.goalDetection())\n",
    "globalMap.setObstacles(vision.obstaclesDetection())\n",
    "\n",
    "#Shorthest path computation\n",
    "gloablMap.setPath(ShorthestPath.aStar(globalMap.getObstacles(),gloablMap.getMapSize()[0],\n",
    "                                      gloablMap.getMapSize()[1], gloablMap.getPos(),\n",
    "                                      globalMap.getGoal()))\n"
   ]
  }
 ],
 "metadata": {
  "kernelspec": {
   "display_name": "Python 3 (ipykernel)",
   "language": "python",
   "name": "python3"
  },
  "language_info": {
   "codemirror_mode": {
    "name": "ipython",
    "version": 3
   },
   "file_extension": ".py",
   "mimetype": "text/x-python",
   "name": "python",
   "nbconvert_exporter": "python",
   "pygments_lexer": "ipython3",
   "version": "3.9.7"
  }
 },
 "nbformat": 4,
 "nbformat_minor": 5
}
